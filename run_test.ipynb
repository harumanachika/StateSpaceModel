{
  "nbformat": 4,
  "nbformat_minor": 0,
  "metadata": {
    "colab": {
      "provenance": [],
      "authorship_tag": "ABX9TyNoI+1nznFQmdC7OW/iwLVq",
      "include_colab_link": true
    },
    "kernelspec": {
      "name": "ir",
      "display_name": "R"
    },
    "language_info": {
      "name": "R"
    }
  },
  "cells": [
    {
      "cell_type": "markdown",
      "metadata": {
        "id": "view-in-github",
        "colab_type": "text"
      },
      "source": [
        "<a href=\"https://colab.research.google.com/github/harumanachika/StateSpaceModel/blob/main/run_test.ipynb\" target=\"_parent\"><img src=\"https://colab.research.google.com/assets/colab-badge.svg\" alt=\"Open In Colab\"/></a>"
      ]
    },
    {
      "cell_type": "markdown",
      "source": [
        "カルマンフィルター"
      ],
      "metadata": {
        "id": "6KMcmZ0WfDvJ"
      }
    },
    {
      "cell_type": "code",
      "execution_count": 1,
      "metadata": {
        "id": "EeqqJwgvdBG6"
      },
      "outputs": [],
      "source": [
        "localLevelModel_2 <- function(y, xPre, pPre, sigmaW, sigmaV) {\n",
        "  xForecast <- xPre\n",
        "  pForecast <- pPre + sigmaW\n",
        "  v <- y - xForecast\n",
        "  F <- pForecast + sigmaV\n",
        "  kGain <- pForecast / (pForecast + sigmaV)\n",
        "  xFiltered <- xForecast + kGain * (y - xForecast)\n",
        "  pFiltered <- (1 - kGain) * pForecast\n",
        "\n",
        "  result <- data.frame(\n",
        "    xFiltered = xFiltered, \n",
        "    pFiltered = pFiltered,\n",
        "    v = v,\n",
        "    F = F\n",
        "  )\n",
        "  \n",
        "  return(result)\n",
        "}"
      ]
    },
    {
      "cell_type": "code",
      "source": [],
      "metadata": {
        "id": "yGs4xh4_feO6"
      },
      "execution_count": null,
      "outputs": []
    }
  ]
}