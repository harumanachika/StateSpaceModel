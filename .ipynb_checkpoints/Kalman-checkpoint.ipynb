{
 "cells": [
  {
   "cell_type": "code",
   "execution_count": null,
   "metadata": {},
   "outputs": [],
   "source": [
    "#python\n",
    "import pandas as pd\n",
    "import numpy as np\n",
    "import matplotlib.pyplot as plt\n",
    "import seaborn as sns\n",
    "import scipy.optimize\n",
    "sns.set_style('darkgrid')\n",
    "\n",
    "G = np.array([[1,0],[0,0]])       # システムモデルの係数行列（1次のトレンドモデル）\n",
    "#G = np.array([[2,-1],[1,0]])       # システムモデルの係数行列（2次のトレンドモデル）\n",
    "F = np.array([[1,0]])              # 観測モデルの係数行列\n",
    "T = 1000                           #最大時間\n",
    "x0 = 0                             #初期値\n",
    "Tr = 0                             #尤度算出のためのトリガー(Tr=1で尤度算出用)\n",
    "np.random.seed(seed=32)            #ランダムシード固定\n",
    "w = np.random.normal(0, 0.1, T)    #システムノイズ(標準偏差0.1)\n",
    "v = np.random.normal(0, 0.2, T)    #観測ノイズ(標準偏差0.2)\n",
    "x = np.zeros(T)                    #状態変数の初期化\n",
    "y = np.full(T,np.nan)              #観測値の初期化\n",
    "\n",
    "# 状態変数と観測値の作成(t=310～360では観測値は得られなかったと仮定)\n",
    "x[0] = x0 + w[0]\n",
    "y[0] = x[0] + v[0]\n",
    "for t in range(1, T):\n",
    "    x[t] = x[t-1] + w[t]\n",
    "    if t < 310 or 360 < t:\n",
    "        y[t] = x[t] + v[t]\n",
    "\n",
    "# 作成したデータの確認と保存\n",
    "fig, axes = plt.subplots(nrows=1, figsize=(16, 6))\n",
    "plt.title(\"Test Data\")\n",
    "sns.lineplot(x=np.arange(T), y=y, color=\"gray\", label=\"observation\")\n",
    "sns.lineplot(x=np.arange(T), y=x, color=\"black\", label=\"true value\")\n",
    "axes.axvline(310, color=\"red\", linestyle=\"--\", alpha=0.5)\n",
    "axes.axvline(360, color=\"red\", linestyle=\"--\", alpha=0.5)\n",
    "plt.show()\n",
    "plt.show()\n",
    "fig.savefig(\"data.png\", transparent = True, bbox_inches = 'tight', pad_inches = 0)"
   ]
  }
 ],
 "metadata": {
  "kernelspec": {
   "display_name": "Python 3",
   "language": "python",
   "name": "python3"
  },
  "language_info": {
   "codemirror_mode": {
    "name": "ipython",
    "version": 3
   },
   "file_extension": ".py",
   "mimetype": "text/x-python",
   "name": "python",
   "nbconvert_exporter": "python",
   "pygments_lexer": "ipython3",
   "version": "3.6.6+"
  }
 },
 "nbformat": 4,
 "nbformat_minor": 2
}
